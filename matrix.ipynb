{
 "cells": [
  {
   "cell_type": "code",
   "execution_count": 3,
   "metadata": {},
   "outputs": [
    {
     "name": "stdout",
     "output_type": "stream",
     "text": [
      "[2.0, 5.0, 8.0]\n"
     ]
    }
   ],
   "source": [
    "def mean(numbers):\n",
    "    \"\"\"\n",
    "    Calculates the mean of a two dimensional list of numbers.\n",
    "\n",
    "    Args:\n",
    "    numbers (list[list]): A two dimensional list of numbers.\n",
    "\n",
    "    Returns:\n",
    "    list: A list of means for each row in the input list.\n",
    "    \"\"\"\n",
    "    # Create an empty list to hold the means\n",
    "    row_means = []\n",
    "    # Loop through each row in the input list\n",
    "    for row in numbers:\n",
    "        # Calculate the mean of the row\n",
    "        row_mean = sum(row) / len(row)\n",
    "        # Append the row mean to the list of means\n",
    "        row_means.append(row_mean)\n",
    "    # Return the list of means\n",
    "    return row_means\n",
    "\n",
    "numbers = [[1, 2, 3], [4, 5, 6], [7, 8, 9]]\n",
    "print(mean(numbers))"
   ]
  },
  {
   "cell_type": "code",
   "execution_count": 10,
   "metadata": {},
   "outputs": [
    {
     "name": "stdout",
     "output_type": "stream",
     "text": [
      "[2.0, 5.0, 8.0]\n"
     ]
    }
   ],
   "source": [
    "from typing import List\n",
    "\n",
    "def calculate_row_means(matrix: List[List[int]]) -> List[int]:\n",
    "    \"\"\"\n",
    "    Calculates the mean of each row in a matrix.\n",
    "\n",
    "    Args:\n",
    "        matrix (List[List[int]]): A 2D list of integers.\n",
    "\n",
    "    Returns:\n",
    "        List[int]: A list of means for each row in the input list.\n",
    "    \"\"\"\n",
    "    num_rows = len(matrix)\n",
    "    num_cols = len(matrix[0])\n",
    "\n",
    "    # Initialize empty lists to store row sums and means\n",
    "    row_sums = [0] * num_rows\n",
    "    row_means = [0] * num_rows\n",
    "\n",
    "    # Calculate the sum of each row and store in row_sums list\n",
    "    for row_idx, row in enumerate(matrix):\n",
    "        for col_idx, value in enumerate(row):\n",
    "            row_sums[row_idx] += value\n",
    "\n",
    "    # Calculate the mean of each row and store in row_means list\n",
    "    for row_idx, row_sum in enumerate(row_sums):\n",
    "        row_means[row_idx] = row_sum / num_cols\n",
    "\n",
    "    return row_means\n",
    "\n",
    "if __name__ == \"__main__\":\n",
    "    numbers = [[1, 2, 3], [4, 5, 6], [7, 8, 9]]\n",
    "    row_means = calculate_row_means(numbers)\n",
    "    print(row_means)"
   ]
  }
 ],
 "metadata": {
  "kernelspec": {
   "display_name": "Python 3",
   "language": "python",
   "name": "python3"
  },
  "language_info": {
   "codemirror_mode": {
    "name": "ipython",
    "version": 3
   },
   "file_extension": ".py",
   "mimetype": "text/x-python",
   "name": "python",
   "nbconvert_exporter": "python",
   "pygments_lexer": "ipython3",
   "version": "3.11.3"
  },
  "orig_nbformat": 4
 },
 "nbformat": 4,
 "nbformat_minor": 2
}
